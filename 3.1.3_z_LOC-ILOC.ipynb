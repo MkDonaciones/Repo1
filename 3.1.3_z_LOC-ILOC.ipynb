{
 "cells": [
  {
   "cell_type": "markdown",
   "id": "f7a34a54",
   "metadata": {},
   "source": [
    "#DIFERENCIAS ENTRE LOC E ILOC\n ",
    "\n",
    "En los DataFrames de Pandas existen diferentes formas de seleccionar los registros de las filas y columnas. Siendo dos de las más importantes ILOC y LOC. \n",
    "\n",
    "ILOC: permite seleccionar los elementos en base a la posición.\n",
    "LOC: permite seleccionar mediante etiquetas o declaraciones condicionales.\n"
   ]
  },
  {
   "cell_type": "markdown",
   "id": "553facb1",
   "metadata": {},
   "source": [
    "ILOC se utiliza en los DataFrames para seleccionar los elementos en base a su ubicación. \n",
    "\n",
    "Su sintaxis es data.iloc[<filas>, <columnas>], donde <filas> y <columnas> son la posición de las filas y columnas que se desean seleccionar en el orden que aparecen en el objeto. En un DataFrame cada una de las filas tiene un número que va desde 0 hasta el total de filas menos uno. Siendo iloc el método que permite seleccionar los datos en base a estos números. Lo mismo que aplica a las columnas."
   ]
  },
  {
   "cell_type": "code",
   "execution_count": 36,
   "id": "2bcd9b3c",
   "metadata": {},
   "outputs": [
    {
     "name": "stdout",
     "output_type": "stream",
     "text": [
      "    Nombre Sexo  Edad\n",
      "0    Jaime    H    35\n",
      "1  Roberto    H    35\n",
      "2   Vanesa    M    34\n",
      "3    Diego    H    30 <class 'pandas.core.frame.DataFrame'>\n",
      "    Nombre Sexo\n",
      "0    Jaime    H\n",
      "1  Roberto    H <class 'pandas.core.frame.DataFrame'>\n",
      "    Nombre Sexo\n",
      "0    Jaime    M\n",
      "1  Roberto    M <class 'pandas.core.frame.DataFrame'>\n",
      "    Nombre Sexo  Edad\n",
      "0    Jaime    H    35\n",
      "1  Roberto    H    35\n",
      "2   Vanesa    M    34\n",
      "3    Diego    H    30 <class 'pandas.core.frame.DataFrame'>\n"
     ]
    }
   ],
   "source": [
    "import pandas as pd\n",
    "\n",
    "info = {\"Nombre\": [\"Jaime\", \"Roberto\", \"Vanesa\", \"Diego\"], \"Sexo\" : [\"H\", \"H\", \"M\", \"H\"], \"Edad\" : [35,35,34,30]}\n",
    "\n",
    "info_profesores = pd.DataFrame(info)\n",
    "print(info_profesores, type(info_profesores))\n",
    "\n",
    "info_profesores1 = info_profesores.iloc[0:2,0:2]\n",
    "\n",
    "print(info_profesores1, type(info_profesores1))\n",
    "info_profesores1[\"Sexo\"] = \"M\"\n",
    "print(info_profesores1, type(info_profesores1))\n",
    "print(info_profesores, type(info_profesores))\n",
    "\n",
    "\n",
    "\n",
    "#ILOC ME PERMITE SELECCIONAR APLICANDO EL FORMATO [filas, columnas]\n",
    "\n",
    "#Selección de las dos primeras filas y de las dos primeras columnas\n",
    "print(info_profesores.iloc[0:2,0:2])\n",
    "\n",
    "#Selección de todas las filas y de las dos primeras columnas\n",
    "print(info_profesores.iloc[:,0:2])\n",
    "\n",
    "#Si omito el segundo argumento correspondiente a las columas: \n",
    "#Selección de las dos primeras filas y de todas las columnas primeras columnas\n",
    "print(info_profesores.iloc[0:2])\n",
    "\n",
    "#Selección de la última fila del df y de las dos primeras columnas\n",
    "print(info_profesores.iloc[-1, 0:2])\n",
    "\n",
    "\n",
    "#Selección de las dos primeras filas y de la última columna\n",
    "print(info_profesores.iloc[0:2, -1])\n",
    "\n",
    "#Selección de la primera, tercera y segunda fila\n",
    "#Me permite variar el orden.\n",
    "print(info_profesores.iloc[[0,2,1]])\n"
   ]
  },
  {
   "cell_type": "markdown",
   "id": "ff3ed3d1",
   "metadata": {},
   "source": [
    "Es importante tener en cuenta que iloc devuelve una Serie Pandas cuando se selecciona una fila y un DataFrame cuando se selecciona varias"
   ]
  },
  {
   "cell_type": "markdown",
   "id": "04e69d41",
   "metadata": {},
   "source": [
    "LOC me permite acceder a los elementos del DataFrame a través de etiquetas para filas o columnas. También me permite establecer condiciones."
   ]
  },
  {
   "cell_type": "code",
   "execution_count": 49,
   "id": "930b08f6",
   "metadata": {},
   "outputs": [
    {
     "name": "stdout",
     "output_type": "stream",
     "text": [
      "LOC_CONDICIÓN     Nombre  Edad\n",
      "0    Jaime    35\n",
      "1  Roberto    35\n",
      "2   Vanesa    34\n"
     ]
    }
   ],
   "source": [
    "#LOC acceder por etiqueta asociada al registro, no por posición como ILOC o como hacen las listas.\n",
    "print(\"LOC\", info_profesores.loc[0:2])\n",
    "print(\"ILOC\", info_profesores.iloc[0:2])\n",
    "\n",
    "#LOC permite acceder a las columnas a través de sus nombres:\n",
    "print(\"LOC_COLUMNA\", info_profesores.loc[0:2, \"Edad\"])\n",
    "print(\"LOC_COLUMNA\", info_profesores.loc[0:2, [\"Edad\", \"Nombre\"]])\n",
    "\n",
    "#LOC permite seleccionar registros que cumplen una condición:\n",
    "print(\"LOC_CONDICIÓN\", info_profesores.loc[info_profesores.loc[:,\"Edad\"]>31])\n",
    "print(\"LOC_CONDICIÓN\", info_profesores.loc[info_profesores.loc[:,\"Edad\"]>31, [\"Nombre\", \"Edad\"]])\n"
   ]
  },
  {
   "cell_type": "code",
   "execution_count": null,
   "id": "8a39bb02",
   "metadata": {},
   "outputs": [],
   "source": []
  }
 ],
 "metadata": {
  "kernelspec": {
   "display_name": "Python 3 (ipykernel)",
   "language": "python",
   "name": "python3"
  },
  "language_info": {
   "codemirror_mode": {
    "name": "ipython",
    "version": 3
   },
   "file_extension": ".py",
   "mimetype": "text/x-python",
   "name": "python",
   "nbconvert_exporter": "python",
   "pygments_lexer": "ipython3",
   "version": "3.9.13"
  }
 },
 "nbformat": 4,
 "nbformat_minor": 5
}
